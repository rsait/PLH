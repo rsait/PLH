{
 "cells": [
  {
   "cell_type": "markdown",
   "metadata": {
    "deletable": true,
    "editable": true
   },
   "source": [
    "In this notebook there are some examples of how to perform some exploratory analysis in our corpus in order to assess some issues we could run into when creating poetry.\n",
    "\n",
    "First of all, let us execute another notebook, in order to have access to some variables."
   ]
  },
  {
   "cell_type": "code",
   "execution_count": null,
   "metadata": {
    "collapsed": false,
    "deletable": true,
    "editable": true
   },
   "outputs": [],
   "source": [
    "import io\n",
    "from nbformat import current\n",
    "\n",
    "def execute_notebook(nbfile):\n",
    "    \n",
    "    with io.open(nbfile) as f:\n",
    "        nb = current.read(f, 'json')\n",
    "    \n",
    "    ip = get_ipython()\n",
    "    \n",
    "    for cell in nb.worksheets[0].cells:\n",
    "        if cell.cell_type != 'code':\n",
    "            continue\n",
    "        ip.run_cell(cell.input)"
   ]
  },
  {
   "cell_type": "markdown",
   "metadata": {
    "deletable": true,
    "editable": true
   },
   "source": [
    "Let us load the configuration code that defines variables and functions specific to our application."
   ]
  },
  {
   "cell_type": "code",
   "execution_count": null,
   "metadata": {
    "collapsed": false,
    "deletable": true,
    "editable": true
   },
   "outputs": [],
   "source": [
    "execute_notebook(\"Get_started.ipynb\")"
   ]
  },
  {
   "cell_type": "markdown",
   "metadata": {
    "deletable": true,
    "editable": true
   },
   "source": [
    "## Lexical exploratory analysis"
   ]
  },
  {
   "cell_type": "markdown",
   "metadata": {
    "deletable": true,
    "editable": true
   },
   "source": [
    "Count the number of potential verses:"
   ]
  },
  {
   "cell_type": "code",
   "execution_count": null,
   "metadata": {
    "collapsed": false,
    "deletable": true,
    "editable": true
   },
   "outputs": [],
   "source": [
    "Pv = [extract_verses(document) for document in Dv]\n",
    "print (\"The number of verses is: \" + str(len(Pv)))"
   ]
  },
  {
   "cell_type": "markdown",
   "metadata": {
    "deletable": true,
    "editable": true
   },
   "source": [
    "Find the number of verses which do not adjust to the rhyming convention."
   ]
  },
  {
   "cell_type": "code",
   "execution_count": null,
   "metadata": {
    "collapsed": false,
    "deletable": true,
    "editable": true
   },
   "outputs": [],
   "source": [
    "noRhymingVerses = Poetry.noRhymingSentences(Pv)\n",
    "# print noRhymingVerses # uncomment if interested in checking the verses\n",
    "print \"Number of verses that do not rhyme with anything: \" + str(len(noRhymingVerses))\n",
    "proportion = float(len(noRhymingVerses)) / float(len(Pv))\n",
    "print \"Proportion of verses that do not rhyme with anything: \" + \"%.2f\" % (proportion * 100) + \"%\""
   ]
  },
  {
   "cell_type": "markdown",
   "metadata": {
    "deletable": true,
    "editable": true
   },
   "source": [
    "Show the endings of the verses with no rhyme."
   ]
  },
  {
   "cell_type": "code",
   "execution_count": null,
   "metadata": {
    "collapsed": false,
    "deletable": true,
    "editable": true
   },
   "outputs": [],
   "source": [
    "lastWordsNoRhymingVerses = General.sortStringListByReverseString(Poetry.noRhymingLastWords(Pv))\n",
    "print lastWordsNoRhymingVerses"
   ]
  },
  {
   "cell_type": "markdown",
   "metadata": {
    "deletable": true,
    "editable": true
   },
   "source": [
    "Find the number of verses which rhyme with a given word. Just edit the first line of code and run again the cell."
   ]
  },
  {
   "cell_type": "code",
   "execution_count": null,
   "metadata": {
    "collapsed": false,
    "deletable": true,
    "editable": true
   },
   "outputs": [],
   "source": [
    "rhymingWord = \"kalera\"\n",
    "rhymingVerses = Poetry.rhymingSentences(rhymingWord, Pv)\n",
    "print rhymingVerses\n",
    "print \"Number of verses that rhyme with \" + rhymingWord + \": \" + str(len(rhymingVerses))\n",
    "proportion = float(len(rhymingVerses)) / float(len(Pv))\n",
    "print \"Proportion of verses that rhyme with \" + rhymingWord + \": \" + \"%.2f\" % (proportion * 100) + \"%\""
   ]
  },
  {
   "cell_type": "markdown",
   "metadata": {
    "deletable": true,
    "editable": true
   },
   "source": [
    "Show the verses which rhyme with the previously given word."
   ]
  },
  {
   "cell_type": "code",
   "execution_count": null,
   "metadata": {
    "collapsed": false,
    "deletable": true,
    "editable": true
   },
   "outputs": [],
   "source": [
    "print rhymingVerses"
   ]
  },
  {
   "cell_type": "markdown",
   "metadata": {
    "deletable": true,
    "editable": true
   },
   "source": [
    "Create a new file removing the sentences that cannot rhyme."
   ]
  },
  {
   "cell_type": "code",
   "execution_count": null,
   "metadata": {
    "collapsed": false,
    "deletable": true,
    "editable": true
   },
   "outputs": [],
   "source": [
    "possibleRhymes = General.substractList(Pv, noRhymingVerses)\n",
    "General.saveListOfSentencesToFile(possibleRhymes, '8tx_clean.txt')"
   ]
  },
  {
   "cell_type": "markdown",
   "metadata": {
    "deletable": true,
    "editable": true
   },
   "source": [
    "Compute the number of rhyming partitions of the set of verses."
   ]
  },
  {
   "cell_type": "code",
   "execution_count": null,
   "metadata": {
    "collapsed": false,
    "deletable": true,
    "editable": true
   },
   "outputs": [],
   "source": [
    "noRhymeSentences, noRhymeLastWords, cleanPartitionIndices, cleanPartitionSentences = Poetry.analyzeProspectiveRhymes(Pv)\n",
    "print \"Number of partitions: \" + str(len(cleanPartitionSentences))"
   ]
  },
  {
   "cell_type": "markdown",
   "metadata": {
    "deletable": true,
    "editable": true
   },
   "source": [
    "Compute the number of rhyming partitions of the set of verses that have more elements than the minimum number of rhyming verses in a stanza."
   ]
  },
  {
   "cell_type": "code",
   "execution_count": null,
   "metadata": {
    "collapsed": false,
    "deletable": true,
    "editable": true
   },
   "outputs": [],
   "source": [
    "print \"Number of partitions of minimum size: \" + str(len(Poetry.possiblePartitions(cleanPartitionSentences, RP)))"
   ]
  },
  {
   "cell_type": "markdown",
   "metadata": {
    "deletable": true,
    "editable": true
   },
   "source": [
    "Create a list with a verse from every partition along with the number of elements in such partition."
   ]
  },
  {
   "cell_type": "code",
   "execution_count": null,
   "metadata": {
    "collapsed": false,
    "deletable": true,
    "editable": true
   },
   "outputs": [],
   "source": [
    "exampleAndHowMany = [(partition[0], len(partition)) for partition in cleanPartitionSentences]\n",
    "exampleAndHowMany.sort(key=lambda tup: tup[1], reverse = True)\n",
    "print \"List of representatives of the partitions, along with the number of members of that partition\"\n",
    "print exampleAndHowMany"
   ]
  },
  {
   "cell_type": "markdown",
   "metadata": {
    "deletable": true,
    "editable": true
   },
   "source": [
    "The following plots are shown below:\n",
    "- Plot of the number of verses in each equivalence class\n",
    "- Plot of the logarithm of the number of verses in each equivalence class\n",
    "- Plot of the histogram of the number of equivalence classes according to the equivalence class size\n",
    "- Plot of the histogram of the number of equivalence classes according to the logarithm of the equivalence class size"
   ]
  },
  {
   "cell_type": "code",
   "execution_count": null,
   "metadata": {
    "collapsed": false,
    "deletable": true,
    "editable": true
   },
   "outputs": [],
   "source": [
    "%%javascript\n",
    "IPython.OutputArea.auto_scroll_threshold = 999;"
   ]
  },
  {
   "cell_type": "code",
   "execution_count": null,
   "metadata": {
    "collapsed": false,
    "deletable": true,
    "editable": true
   },
   "outputs": [],
   "source": [
    "cardinalsPartition = [len(elem) for elem in Poetry.possiblePartitions(cleanPartitionSentences, RP)]\n",
    "cardinalsPartition.sort(reverse=True)\n",
    "print cardinalsPartition\n",
    "%matplotlib inline\n",
    "import matplotlib.pyplot as plt\n",
    "import matplotlib\n",
    "\n",
    "matplotlib.rc('xtick', labelsize=15) \n",
    "matplotlib.rc('ytick', labelsize=15) \n",
    "\n",
    "minimumNumberOfVerses = 0\n",
    "maximumNumberOfVerses = 100000\n",
    "filteredCardinalsPartition = [elem for elem in cardinalsPartition if elem >= minimumNumberOfVerses and elem <= maximumNumberOfVerses]\n",
    "\n",
    "plt.rcParams['figure.figsize'] = (15.0, 8.0)\n",
    "plt.bar(range(len(filteredCardinalsPartition)), filteredCardinalsPartition)\n",
    "plt.ylabel('Number of verses', fontsize = 20)\n",
    "plt.xlabel('Equivalence class ordinal', fontsize = 20)\n",
    "\n",
    "plt.show()\n",
    "\n",
    "import numpy as np\n",
    "\n",
    "\n",
    "logFilteredCardinalsPartition = np.log(filteredCardinalsPartition)\n",
    "plt.rcParams['figure.figsize'] = (15.0, 8.0)\n",
    "plt.bar(range(len(filteredCardinalsPartition)), logFilteredCardinalsPartition)\n",
    "plt.ylabel('Log of the number of verses', fontsize = 20)\n",
    "plt.xlabel('Equivalence class ordinal', fontsize = 20)\n",
    "plt.show()\n",
    "\n",
    "plt.rcParams['figure.figsize'] = (15.0, 8.0)\n",
    "plt.hist(filteredCardinalsPartition, General.numberBins(filteredCardinalsPartition))\n",
    "plt.ylabel('Number of quivalence classes', fontsize = 20)\n",
    "plt.xlabel('Equivalence class size', fontsize = 20)\n",
    "plt.show()\n",
    "\n",
    "plt.rcParams['figure.figsize'] = (10.0, 8.0)\n",
    "logFilteredCardinalsPartition = np.log(filteredCardinalsPartition)\n",
    "plt.hist(logFilteredCardinalsPartition, General.numberBins(logFilteredCardinalsPartition))\n",
    "plt.ylabel('Number of equivalence classes', fontsize = 20)\n",
    "plt.xlabel('Log of the equivalence class size', fontsize = 20)\n",
    "plt.show()"
   ]
  },
  {
   "cell_type": "markdown",
   "metadata": {
    "deletable": true,
    "editable": true
   },
   "source": [
    "## Semantic exploratory analysis"
   ]
  },
  {
   "cell_type": "markdown",
   "metadata": {
    "deletable": true,
    "editable": true
   },
   "source": [
    "- Build a semantic model from the set of documents provided by the user. The parameters are the following ones:\n",
    "    * **lemmatizedDs**: set of lemmatized documents\n",
    "    * **number_topics**: number of topics to create the LSI model\n",
    "    * **filtered_words**: these words will be filtered out before creating the model\n",
    "    * **no_below**: minimum number of documents in which a word has to appear\n",
    "    * **no_above**: maximum percentage of documents in which a word could appear"
   ]
  },
  {
   "cell_type": "code",
   "execution_count": null,
   "metadata": {
    "collapsed": false,
    "deletable": true,
    "editable": true
   },
   "outputs": [],
   "source": [
    "# customized values\n",
    "number_topics = 100\n",
    "filtered_words = ['dut', 'ni', 'zu', 'da', 'du', 'dute', 'zen', 'ere', 'gu', 'dugu', 'ez', 'bat', 'hori', 'hor', 'dira', \n",
    "            'baina', 'bi', 'zi', 'zut', 'zituzten', 'atzo', 'beste', 'dela']\n",
    "no_below = 5\n",
    "no_above = 0.2\n",
    "\n",
    "# semantic model creation\n",
    "dictionary, corpus, tfidfModel, lsiModel = NLP.semanticsExtractor(lemmatizedDs, number_topics, filtered_words, no_below, no_above)"
   ]
  },
  {
   "cell_type": "markdown",
   "metadata": {
    "deletable": true,
    "editable": true
   },
   "source": [
    "It is possible to save the semantic model for further use."
   ]
  },
  {
   "cell_type": "code",
   "execution_count": null,
   "metadata": {
    "collapsed": false,
    "deletable": true,
    "editable": true
   },
   "outputs": [],
   "source": [
    "nameModel = data_directory + 'new_model'\n",
    "NLP.savePrecomputedData(dictionary, corpus, tfidfModel, lsiModel, nameModel)"
   ]
  },
  {
   "cell_type": "markdown",
   "metadata": {
    "deletable": true,
    "editable": true
   },
   "source": [
    "And to load that model if necessary."
   ]
  },
  {
   "cell_type": "code",
   "execution_count": null,
   "metadata": {
    "collapsed": false,
    "deletable": true,
    "editable": true
   },
   "outputs": [],
   "source": [
    "nameModel = data_directory + 'new_model'\n",
    "dictionary, corpus, tfidfModel, lsiModel = NLP.loadPrecomputedData(nameModel)"
   ]
  },
  {
   "cell_type": "markdown",
   "metadata": {
    "deletable": true,
    "editable": true
   },
   "source": [
    "Find the verses more similar to a given theme according to the semantic models."
   ]
  },
  {
   "cell_type": "code",
   "execution_count": null,
   "metadata": {
    "collapsed": false,
    "deletable": true,
    "editable": true
   },
   "outputs": [],
   "source": [
    "fileSim = NLP.getSimilarityMatrix(lemmatizedDv, dictionary, tfidfModel, lsiModel)\n",
    "theme = 'pozik' # the semantic similarity of the verses will be computed against this theme\n",
    "simsWithNew = NLP.simsFromSentence(NLP.lemmatizeString(theme), dictionary, lsiModel, fileSim)\n",
    "numberChosen = -1 # number of the best sentences returned\n",
    "bestIndexes, bestValues, bestSentencesLemmatized, bestSentencesOriginal = NLP.getIndexesAndSentencesFromSimsValues(simsWithNew, lemmatizedDv_filename, Dv_filename, numberChosen)\n",
    "results = sorted(zip(bestSentencesOriginal, bestValues), key=lambda pair: pair[1], reverse = True)\n",
    "print results[0:100]"
   ]
  },
  {
   "cell_type": "markdown",
   "metadata": {
    "deletable": true,
    "editable": true
   },
   "source": [
    "Find the verses more similar to a given theme according to the semantic models and that also rhyme with a sentence."
   ]
  },
  {
   "cell_type": "code",
   "execution_count": null,
   "metadata": {
    "collapsed": false,
    "deletable": true,
    "editable": true
   },
   "outputs": [],
   "source": [
    "sentence = 'maitasuna baieztu zenduten eleizan'\n",
    "#sentence = results[0][0]\n",
    "rhymingResults = [result for result in results[0:500] if is_rhyme(result[0], sentence)]\n",
    "print rhymingResults"
   ]
  }
 ],
 "metadata": {
  "kernelspec": {
   "display_name": "Python 2",
   "language": "python",
   "name": "python2"
  },
  "language_info": {
   "codemirror_mode": {
    "name": "ipython",
    "version": 2
   },
   "file_extension": ".py",
   "mimetype": "text/x-python",
   "name": "python",
   "nbconvert_exporter": "python",
   "pygments_lexer": "ipython2",
   "version": "2.7.12"
  }
 },
 "nbformat": 4,
 "nbformat_minor": 0
}
