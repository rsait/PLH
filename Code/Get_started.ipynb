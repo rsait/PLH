{
 "cells": [
  {
   "cell_type": "markdown",
   "metadata": {},
   "source": [
    "- Import the Customize python module, where the basic building blocks are defined:"
   ]
  },
  {
   "cell_type": "code",
   "execution_count": null,
   "metadata": {
    "collapsed": false
   },
   "outputs": [],
   "source": [
    "from Customize import * "
   ]
  },
  {
   "cell_type": "markdown",
   "metadata": {},
   "source": [
    "- Import the exploration and poetry generation modules:"
   ]
  },
  {
   "cell_type": "code",
   "execution_count": null,
   "metadata": {
    "collapsed": false
   },
   "outputs": [],
   "source": [
    "import General\n",
    "import NLP\n",
    "import Poetry\n",
    "                \n",
    "import logging, pprint\n",
    "logging.basicConfig(format='%(asctime)s : %(levelname)s : %(message)s', level=logging.INFO)"
   ]
  },
  {
   "cell_type": "markdown",
   "metadata": {},
   "source": [
    "- Loading of the documents and aditional cleaning is performed, to remove language marks"
   ]
  },
  {
   "cell_type": "code",
   "execution_count": null,
   "metadata": {
    "collapsed": false
   },
   "outputs": [],
   "source": [
    "Ds = General.readListOfSentencesFromFile(Ds_filename)\n",
    "Dv = General.readListOfSentencesFromFile(Dv_filename)\n",
    "Ds = [General.cleanDocument(D, M) for D in Ds]\n",
    "Dv = [General.cleanDocument(D, M) for D in Dv]"
   ]
  },
  {
   "cell_type": "markdown",
   "metadata": {},
   "source": [
    "- The following code creates the lemmatized documents"
   ]
  },
  {
   "cell_type": "code",
   "execution_count": null,
   "metadata": {
    "collapsed": false
   },
   "outputs": [],
   "source": [
    "if (not Ds_already_lemmatized):\n",
    "    lemmatizedDs = [NLP.lemmatizeDocument(D) for D in Ds]\n",
    "else: \n",
    "    lemmatizedDs = General.readListOfSentencesFromFile(lemmatizedDs_filename)\n",
    "if (not Dv_already_lemmatized):\n",
    "    lemmatizedDv = [NLP.lemmatizeDocument(D) for D in Dv]\n",
    "else:\n",
    "    lemmatizedDv = General.readListOfSentencesFromFile(lemmatizedDv_filename)   "
   ]
  }
 ],
 "metadata": {
  "kernelspec": {
   "display_name": "Python 2",
   "language": "python",
   "name": "python2"
  },
  "language_info": {
   "codemirror_mode": {
    "name": "ipython",
    "version": 2
   },
   "file_extension": ".py",
   "mimetype": "text/x-python",
   "name": "python",
   "nbconvert_exporter": "python",
   "pygments_lexer": "ipython2",
   "version": "2.7.12"
  }
 },
 "nbformat": 4,
 "nbformat_minor": 0
}
