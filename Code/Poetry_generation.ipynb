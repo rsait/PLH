{
 "cells": [
  {
   "cell_type": "markdown",
   "metadata": {},
   "source": [
    "In this notebook there are some examples of how to perform poetry generation with our corpus.\n",
    "\n",
    "First of all, let us execute another notebook, in order to have access to some variables."
   ]
  },
  {
   "cell_type": "code",
   "execution_count": null,
   "metadata": {
    "collapsed": false
   },
   "outputs": [],
   "source": [
    "import io\n",
    "from IPython.nbformat import current\n",
    "\n",
    "def execute_notebook(nbfile):\n",
    "    \n",
    "    with io.open(nbfile) as f:\n",
    "        nb = current.read(f, 'json')\n",
    "    \n",
    "    ip = get_ipython()\n",
    "    \n",
    "    for cell in nb.worksheets[0].cells:\n",
    "        if cell.cell_type != 'code':\n",
    "            continue\n",
    "        ip.run_cell(cell.input)"
   ]
  },
  {
   "cell_type": "markdown",
   "metadata": {},
   "source": [
    "Let us load the configuration code that defines variables and functions specific to our application."
   ]
  },
  {
   "cell_type": "code",
   "execution_count": null,
   "metadata": {
    "collapsed": false
   },
   "outputs": [],
   "source": [
    "execute_notebook(\"Get_started.ipynb\")"
   ]
  },
  {
   "cell_type": "markdown",
   "metadata": {},
   "source": [
    "Remove the sentences that cannot rhyme."
   ]
  },
  {
   "cell_type": "code",
   "execution_count": null,
   "metadata": {
    "collapsed": false
   },
   "outputs": [],
   "source": [
    "Pv = [extract_verses(document) for document in Dv]\n",
    "noRhymingVerses = Poetry.noRhymingSentences(Pv)\n",
    "possibleRhymes = General.substractList(Pv, noRhymingVerses)"
   ]
  },
  {
   "cell_type": "markdown",
   "metadata": {},
   "source": [
    "Compute the number of rhyming partitions of the set of verses with a minimum of elements."
   ]
  },
  {
   "cell_type": "code",
   "execution_count": null,
   "metadata": {
    "collapsed": true
   },
   "outputs": [],
   "source": [
    "# noRhymeSentences, noRhymeLastWords, cleanPartitionIndices, cleanPartitionSentences = Poetry.analyzeProspectiveRhymes(possibleRhymes)\n",
    "noRhymeSentences, noRhymeLastWords, cleanPartitionIndices, cleanPartitionSentences = Poetry.analyzeProspectiveRhymes(Pv)\n",
    "validPartitionSentences = Poetry.possiblePartitions(cleanPartitionSentences, RP)\n",
    "# print validPartitionSentences"
   ]
  },
  {
   "cell_type": "markdown",
   "metadata": {},
   "source": [
    "Create a semantic model."
   ]
  },
  {
   "cell_type": "code",
   "execution_count": null,
   "metadata": {
    "collapsed": false
   },
   "outputs": [],
   "source": [
    "# customized values\n",
    "number_topics = 100\n",
    "filtered_words = ['dut', 'ni', 'zu', 'da', 'du', 'dute', 'zen', 'ere', 'gu', 'dugu', 'ez', 'bat', 'hori', 'hor', 'dira', \n",
    "            'baina', 'bi', 'zi', 'zut', 'zituzten', 'atzo', 'beste', 'dela']\n",
    "no_below = 5\n",
    "no_above = 0.2\n",
    "\n",
    "# semantic model creation\n",
    "dictionary, corpus, tfidfModel, lsiModel = NLP.semanticsExtractor(lemmatizedDs, number_topics, filtered_words, no_below, no_above)"
   ]
  },
  {
   "cell_type": "markdown",
   "metadata": {},
   "source": [
    "## Poetry generation"
   ]
  },
  {
   "cell_type": "markdown",
   "metadata": {},
   "source": [
    "Find the *n* verses more similar to a theme *t*, and name *v* the most similar one."
   ]
  },
  {
   "cell_type": "code",
   "execution_count": null,
   "metadata": {
    "collapsed": false
   },
   "outputs": [],
   "source": [
    "fileSim = NLP.getSimilarityMatrix(lemmatizedDv, dictionary, tfidfModel, lsiModel)\n",
    "t = 'guraso' # the semantic similarity of the verses will be computed against this theme\n",
    "simsWithModel = NLP.simsFromSentence(NLP.lemmatizeString(t), dictionary, lsiModel, fileSim)\n",
    "n = -1 # number of the best sentences returned\n",
    "bestIndexes, bestValues, bestSentencesLemmatized, bestSentencesOriginal = NLP.getIndexesAndSentencesFromSimsValues(simsWithModel, lemmatizedDv_filename, Dv_filename, n)\n",
    "similarToTheme = sorted(zip(bestSentencesOriginal, bestValues), key=lambda pair: pair[1], reverse = True)\n",
    "print similarToTheme\n",
    "v = similarToTheme[0][0]\n",
    "print \"More similar verse: \" + v"
   ]
  },
  {
   "cell_type": "markdown",
   "metadata": {},
   "source": [
    "Find the verses more similar to *t* that also rhyme with *v*"
   ]
  },
  {
   "cell_type": "code",
   "execution_count": null,
   "metadata": {
    "collapsed": false
   },
   "outputs": [],
   "source": [
    "rhymingSentences = Poetry.getEquivalenceClassForVerse(v, validPartitionSentences)\n",
    "print rhymingSentences"
   ]
  },
  {
   "cell_type": "code",
   "execution_count": null,
   "metadata": {
    "collapsed": false
   },
   "outputs": [],
   "source": [
    "aux = NLP.lemmatizeListOfSentences([t])\n",
    "lemmatized_t = ' '.join(aux)\n",
    "similaritiesWithT = NLP.similarityFromSentenceToSetSentences(lemmatized_t, rhymingSentences, NLP.cosineSimilarityBetweenTwoSentences, dictionary, tfidfModel, lsiModel)\n",
    "results = sorted(zip(rhymingSentences, similaritiesWithT), key=lambda pair: pair[1], reverse = True)\n",
    "results[0:4]"
   ]
  },
  {
   "cell_type": "markdown",
   "metadata": {},
   "source": [
    "Build the stanza"
   ]
  },
  {
   "cell_type": "code",
   "execution_count": null,
   "metadata": {
    "collapsed": false
   },
   "outputs": [],
   "source": [
    "stanza, stanza_fitness, other = Poetry.getBestStanza(v, results)\n",
    "print stanza, stanza_fitness"
   ]
  },
  {
   "cell_type": "markdown",
   "metadata": {},
   "source": [
    "Construction of the best stanzas taking into account the *numVerses* best verses."
   ]
  },
  {
   "cell_type": "code",
   "execution_count": null,
   "metadata": {
    "collapsed": false
   },
   "outputs": [],
   "source": [
    "numVerses = 10\n",
    "best_stanza_fitness = -1000\n",
    "best_stanza_list = []\n",
    "best_stanza = []\n",
    "for j in range(numVerses):\n",
    "    v = similarToTheme[j][0]\n",
    "    rhymingSentences = Poetry.getEquivalenceClassForVerse(v, validPartitionSentences)\n",
    "    aux = NLP.lemmatizeListOfSentences([t])\n",
    "    lemmatized_t = ' '.join(aux)\n",
    "    similaritiesWithT = NLP.similarityFromSentenceToSetSentences(lemmatized_t, rhymingSentences, NLP.cosineSimilarityBetweenTwoSentences, dictionary, tfidfModel, lsiModel)\n",
    "    results = sorted(zip(rhymingSentences, similaritiesWithT), key=lambda pair: pair[1], reverse = True)\n",
    "    stanza, stanza_fitness, other = Poetry.getBestStanza(v, results)\n",
    "    if stanza_fitness > best_stanza_fitness:\n",
    "        best_stanza_fitness = stanza_fitness\n",
    "        best_stanza = stanza\n",
    "    best_stanza_list.append((stanza, stanza_fitness))\n",
    "print best_stanza\n",
    "print best_stanza_fitness\n",
    "first = [elem[0] for elem in best_stanza_list]\n",
    "second = [elem[1] for elem in best_stanza_list]\n",
    "print sorted(zip(first, second), key=lambda pair: pair[1], reverse = True)"
   ]
  }
 ],
 "metadata": {
  "kernelspec": {
   "display_name": "Python 2",
   "language": "python",
   "name": "python2"
  },
  "language_info": {
   "codemirror_mode": {
    "name": "ipython",
    "version": 2
   },
   "file_extension": ".py",
   "mimetype": "text/x-python",
   "name": "python",
   "nbconvert_exporter": "python",
   "pygments_lexer": "ipython2",
   "version": "2.7.12"
  }
 },
 "nbformat": 4,
 "nbformat_minor": 0
}
